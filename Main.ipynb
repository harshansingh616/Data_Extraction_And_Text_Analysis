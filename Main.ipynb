{
 "cells": [
  {
   "cell_type": "markdown",
   "metadata": {},
   "source": [
    "* Importing Libraries"
   ]
  },
  {
   "cell_type": "code",
   "execution_count": 51,
   "metadata": {},
   "outputs": [
    {
     "name": "stderr",
     "output_type": "stream",
     "text": [
      "[nltk_data] Downloading package punkt to\n",
      "[nltk_data]     C:\\Users\\Hp\\AppData\\Roaming\\nltk_data...\n",
      "[nltk_data]   Package punkt is already up-to-date!\n",
      "[nltk_data] Downloading package stopwords to\n",
      "[nltk_data]     C:\\Users\\Hp\\AppData\\Roaming\\nltk_data...\n",
      "[nltk_data]   Package stopwords is already up-to-date!\n"
     ]
    }
   ],
   "source": [
    "import requests\n",
    "from bs4 import BeautifulSoup\n",
    "import pandas as pd\n",
    "import os\n",
    "import nltk\n",
    "from nltk.tokenize import word_tokenize\n",
    "from nltk.corpus import stopwords\n",
    "nltk.download('punkt')\n",
    "nltk.download('stopwords')\n",
    "import re"
   ]
  },
  {
   "cell_type": "markdown",
   "metadata": {},
   "source": [
    "* Extracting Data from URLs"
   ]
  },
  {
   "cell_type": "code",
   "execution_count": 47,
   "metadata": {},
   "outputs": [
    {
     "name": "stdout",
     "output_type": "stream",
     "text": [
      "can't get title of blackassign0036\n",
      "can't get title of blackassign0049\n"
     ]
    }
   ],
   "source": [
    "df = pd.read_excel('C:\\\\Users\\\\Hp\\\\Desktop\\\\PyProject\\\\Data_Extraction_And_Text_Analysis_on_BlackofferData\\\\Input.xlsx')\n",
    "\n",
    "nil_url=[]\n",
    "for index, row in df.iterrows():\n",
    "  url = row['URL']\n",
    "  url_id = row['URL_ID']\n",
    " \n",
    "  header = {'User-Agent': 'Mozilla/5.0 (Windows NT 10.0; Win64; x64) AppleWebKit/537.36 (KHTML, like Gecko) Chrome/120.0.0.0 Safari/537.36'}\n",
    "            \n",
    "  try:\n",
    "    response = requests.get(url,headers=header)\n",
    "  except:\n",
    "    print(\"can't get response of {}\".format(url_id))\n",
    "\n",
    "  \n",
    "  try:\n",
    "    soup = BeautifulSoup(response.content, 'html.parser')\n",
    "  except:\n",
    "    print(\"can't get page of {}\".format(url_id))\n",
    "  \n",
    "  try:\n",
    "    title = soup.find('h1').get_text()\n",
    "  except:\n",
    "    print(\"can't get title of {}\".format(url_id))\n",
    "    nil_url.append(url_id)\n",
    "    continue\n",
    "  \n",
    "  \n",
    "  article = \"\"\n",
    "  try:\n",
    "    for p in soup.find_all('p'):\n",
    "      article += p.get_text()\n",
    "  except:\n",
    "    print(\"can't get text of {}\".format(url_id))\n",
    "\n",
    "  \n",
    "  file_name = 'C:\\\\Users\\\\Hp\\\\Desktop\\\\PyProject\\\\Data_Extraction_And_Text_Analysis_on_BlackofferData\\\\URL_text\\\\' + str(url_id) + '.txt'\n",
    "  \n",
    "  with open(file_name, 'w',encoding='utf-8') as file:\n",
    "    file.write(title + '\\n' + article)\n",
    "\n"
   ]
  },
  {
   "cell_type": "markdown",
   "metadata": {},
   "source": [
    "* Directories"
   ]
  },
  {
   "cell_type": "code",
   "execution_count": 48,
   "metadata": {},
   "outputs": [],
   "source": [
    "\n",
    "text_dir = \"C:\\\\Users\\\\Hp\\\\Desktop\\\\PyProject\\\\Data_Extraction_And_Text_Analysis_on_BlackofferData\\\\URL_text\"\n",
    "\n",
    "stopwords_dir = \"C:\\\\Users\\\\Hp\\\\Desktop\\\\PyProject\\\\Data_Extraction_And_Text_Analysis_on_BlackofferData\\\\StopWords\"\n",
    "\n",
    "sentment_dir = \"C:\\\\Users\\\\Hp\\\\Desktop\\\\PyProject\\\\Data_Extraction_And_Text_Analysis_on_BlackofferData\\\\MasterDictionary\"\n"
   ]
  },
  {
   "cell_type": "markdown",
   "metadata": {},
   "source": [
    "* Calculating Positive Score, Negative Score, Polarity Score and Subjectivity Score "
   ]
  },
  {
   "cell_type": "code",
   "execution_count": 52,
   "metadata": {},
   "outputs": [],
   "source": [
    "\n",
    "stop_words = set()\n",
    "for files in os.listdir(stopwords_dir):\n",
    "  with open(os.path.join(stopwords_dir,files),'r',encoding='ISO-8859-1') as f:\n",
    "    stop_words.update(set(f.read().splitlines()))\n",
    "\n",
    "\n",
    "docs = []\n",
    "for text_file in os.listdir(text_dir):\n",
    "  with open(os.path.join(text_dir,text_file),'r',encoding='utf-8') as f:\n",
    "    text = f.read()\n",
    "#tokenize the given text file\n",
    "    words = word_tokenize(text)\n",
    "# remove the stop words from the tokens\n",
    "    filtered_text = [word for word in words if word.upper() not in stop_words]\n",
    "# add each filtered tokens of each file into a list\n",
    "    docs.append(filtered_text)\n",
    "\n",
    "\n",
    "\n",
    "pos=set()\n",
    "neg=set()\n",
    "\n",
    "for files in os.listdir(sentment_dir):\n",
    "  if files =='positive-words.txt':\n",
    "    with open(os.path.join(sentment_dir,files),'r',encoding='ISO-8859-1') as f:\n",
    "      pos.update(f.read().splitlines())\n",
    "  else:\n",
    "    with open(os.path.join(sentment_dir,files),'r',encoding='ISO-8859-1') as f:\n",
    "      neg.update(f.read().splitlines())\n",
    "\n",
    "\n",
    "positive_words = []\n",
    "Negative_words =[]\n",
    "positive_score = []\n",
    "negative_score = []\n",
    "polarity_score = []\n",
    "subjectivity_score = []\n",
    "\n",
    "\n",
    "for i in range(len(docs)):\n",
    "  positive_words.append([word for word in docs[i] if word.lower() in pos])\n",
    "  Negative_words.append([word for word in docs[i] if word.lower() in neg])\n",
    "  positive_score.append(len(positive_words[i]))\n",
    "  negative_score.append(len(Negative_words[i]))\n",
    "  polarity_score.append((positive_score[i] - negative_score[i]) / ((positive_score[i] + negative_score[i]) + 0.000001))\n",
    "  subjectivity_score.append((positive_score[i] + negative_score[i]) / ((len(docs[i])) + 0.000001))"
   ]
  },
  {
   "cell_type": "markdown",
   "metadata": {},
   "source": [
    "* Calculating Avg. Sentence Length, Percentage of Complex Words, Fog Index, Complex Word Count, Syllable Per Word."
   ]
  },
  {
   "cell_type": "code",
   "execution_count": 53,
   "metadata": {},
   "outputs": [],
   "source": [
    "avg_sentence_length = []\n",
    "Percentage_of_Complex_words  =  []\n",
    "Fog_Index = []\n",
    "complex_word_count =  []\n",
    "avg_syllable_word_count =[]\n",
    "\n",
    "stopwords = set(stopwords.words('english'))\n",
    "def measure(file):\n",
    "  with open(os.path.join(text_dir, file),'r',encoding='utf-8') as f:\n",
    "    text = f.read()\n",
    "# remove punctuations \n",
    "    text = re.sub(r'[^\\w\\s.]','',text)\n",
    "\n",
    "    sentences = text.split('.')\n",
    "\n",
    "    num_sentences = len(sentences)\n",
    "\n",
    "    words = [word  for word in text.split() if word.lower() not in stopwords ]\n",
    "    num_words = len(words)\n",
    " \n",
    "\n",
    "    complex_words = []\n",
    "    for word in words:\n",
    "      vowels = 'aeiou'\n",
    "      syllable_count_word = sum( 1 for letter in word if letter.lower() in vowels)\n",
    "      if syllable_count_word > 2:\n",
    "        complex_words.append(word)\n",
    "\n",
    "\n",
    "    syllable_count = 0\n",
    "    syllable_words =[]\n",
    "    for word in words:\n",
    "      if word.endswith('es'):\n",
    "        word = word[:-2]\n",
    "      elif word.endswith('ed'):\n",
    "        word = word[:-2]\n",
    "      vowels = 'aeiou'\n",
    "      syllable_count_word = sum( 1 for letter in word if letter.lower() in vowels)\n",
    "      if syllable_count_word >= 1:\n",
    "        syllable_words.append(word)\n",
    "        syllable_count += syllable_count_word\n",
    "\n",
    "\n",
    "    avg_sentence_len = num_words / num_sentences\n",
    "    avg_syllable_word_count = syllable_count / len(syllable_words)\n",
    "    Percent_Complex_words  =  len(complex_words) / num_words\n",
    "    Fog_Index = 0.4 * (avg_sentence_len + Percent_Complex_words)\n",
    "\n",
    "    return avg_sentence_len, Percent_Complex_words, Fog_Index, len(complex_words),avg_syllable_word_count\n",
    "\n",
    "\n",
    "for file in os.listdir(text_dir):\n",
    "  x,y,z,a,b = measure(file)\n",
    "  avg_sentence_length.append(x)\n",
    "  Percentage_of_Complex_words.append(y)\n",
    "  Fog_Index.append(z)\n",
    "  complex_word_count.append(a)\n",
    "  avg_syllable_word_count.append(b)"
   ]
  },
  {
   "cell_type": "markdown",
   "metadata": {},
   "source": [
    "* Calculating Word Count, Personal Pronouns, Avg. Word Length"
   ]
  },
  {
   "cell_type": "code",
   "execution_count": 54,
   "metadata": {},
   "outputs": [],
   "source": [
    "\n",
    "def cleaned_words(file):\n",
    "  with open(os.path.join(text_dir,file), 'r',encoding='utf-8') as f:\n",
    "    text = f.read()\n",
    "    text = re.sub(r'[^\\w\\s]', '' , text)\n",
    "    words = [word  for word in text.split() if word.lower() not in stopwords]\n",
    "    length = sum(len(word) for word in words)\n",
    "    average_word_length = length / len(words)\n",
    "  return len(words),average_word_length\n",
    "\n",
    "word_count = []\n",
    "average_word_length = []\n",
    "for file in os.listdir(text_dir):\n",
    "  x, y = cleaned_words(file)\n",
    "  word_count.append(x)\n",
    "  average_word_length.append(y)\n",
    "\n",
    "\n",
    "def count_personal_pronouns(file):\n",
    "  with open(os.path.join(text_dir,file), 'r',encoding='utf-8') as f:\n",
    "    text = f.read()\n",
    "    personal_pronouns = [\"I\", \"we\", \"my\", \"ours\", \"us\"]\n",
    "    count = 0\n",
    "    for pronoun in personal_pronouns:\n",
    "      count += len(re.findall(r\"\\b\" + pronoun + r\"\\b\", text)) # \\b is used to match word boundaries\n",
    "  return count\n",
    "\n",
    "pp_count = []\n",
    "for file in os.listdir(text_dir):\n",
    "  x = count_personal_pronouns(file)\n",
    "  pp_count.append(x)"
   ]
  },
  {
   "cell_type": "markdown",
   "metadata": {},
   "source": [
    "* Output file"
   ]
  },
  {
   "cell_type": "code",
   "execution_count": 56,
   "metadata": {},
   "outputs": [],
   "source": [
    "output_df = pd.read_excel('C:\\\\Users\\\\Hp\\\\Desktop\\\\PyProject\\\\Data_Extraction_And_Text_Analysis_on_BlackofferData\\\\Output Data Structure.xlsx')\n",
    "\n",
    "for i in range(len(nil_url)):\n",
    "  temp = output_df.index[output_df['URL_ID']== nil_url[i]]\n",
    "  \n",
    "  output_df.drop(temp,axis=0,inplace=True)\n",
    "\n",
    "\n",
    "variables = [positive_score,\n",
    "            negative_score,\n",
    "            polarity_score,\n",
    "            subjectivity_score,\n",
    "            avg_sentence_length,\n",
    "            Percentage_of_Complex_words,\n",
    "            Fog_Index,\n",
    "            avg_sentence_length,\n",
    "            complex_word_count,\n",
    "            word_count,\n",
    "            avg_syllable_word_count,\n",
    "            pp_count,\n",
    "            average_word_length]\n",
    "\n",
    "\n",
    "for i, var in enumerate(variables):\n",
    "  output_df.iloc[:,i+2] = var\n",
    "\n",
    "\n",
    "output_df.to_excel('Output_Data.xlsx')"
   ]
  }
 ],
 "metadata": {
  "kernelspec": {
   "display_name": ".venv",
   "language": "python",
   "name": "python3"
  },
  "language_info": {
   "codemirror_mode": {
    "name": "ipython",
    "version": 3
   },
   "file_extension": ".py",
   "mimetype": "text/x-python",
   "name": "python",
   "nbconvert_exporter": "python",
   "pygments_lexer": "ipython3",
   "version": "3.12.0"
  }
 },
 "nbformat": 4,
 "nbformat_minor": 2
}
